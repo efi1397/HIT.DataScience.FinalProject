{
 "cells": [
  {
   "cell_type": "code",
   "execution_count": 7,
   "id": "84d579f3",
   "metadata": {},
   "outputs": [],
   "source": [
    "import time\n",
    "import bs4\n",
    "from bs4 import BeautifulSoup  \n",
    "import pandas as pd\n",
    "import scipy as sc\n",
    "import numpy as np\n",
    "import requests\n",
    "\n",
    "# --- selenium libraries\n",
    "import os\n",
    "from selenium import webdriver\n",
    "from selenium.webdriver.common.keys import Keys\n",
    "from selenium.webdriver.chrome.service import Service\n",
    "from selenium.webdriver.common.by import By"
   ]
  },
  {
   "cell_type": "code",
   "execution_count": 28,
   "id": "828059dd",
   "metadata": {},
   "outputs": [],
   "source": [
    "def get_infinity_page_html_data(chromedriver_path=\"./chromedriver.exe\", scroll_number=1, sleep_time=2):\n",
    "    # Create selenium driver\n",
    "    service = Service(chromedriver_path)\n",
    "    driver = webdriver.Chrome(service=service)    \n",
    "    driver.get(url)\n",
    "    \n",
    "    for i in range(1,scroll_number+1):\n",
    "        print(f\"scroll_number: {i}\")\n",
    "        driver.execute_script(\"window.scrollTo(1,50000)\")\n",
    "        time.sleep(sleep_time)\n",
    "    html_data = driver.page_source\n",
    "    driver.close()\n",
    "    \n",
    "    return html_data"
   ]
  },
  {
   "cell_type": "code",
   "execution_count": 29,
   "id": "de0647be",
   "metadata": {},
   "outputs": [],
   "source": [
    "def extract_newsbreak_articles_from_HTML_data(html_data):\n",
    "    # Extract articles from HTML data \n",
    "    soup = BeautifulSoup(html_data, 'html.parser')    \n",
    "    articles = soup.find_all(\"article\")\n",
    "    print(f\"Number of articles: {len(articles)}\")        \n",
    "    \n",
    "    return articles"
   ]
  },
  {
   "cell_type": "code",
   "execution_count": 30,
   "id": "37d0d9eb",
   "metadata": {},
   "outputs": [],
   "source": [
    "def create_df_from_articles(articles,category):    \n",
    "    # Create a lists for df\n",
    "    categories = []\n",
    "    headers = []\n",
    "    contents= []\n",
    "        \n",
    "    for article in articles:            \n",
    "        categories.append(category)        \n",
    "        headers.append(article.find(\"a\", {\"class\": lambda L: L and L.startswith('ContentCardBody_title')}).get_text())                           \n",
    "        contents.append(article.find(\"div\", {\"class\": lambda L: L and L.startswith('ContentCardBody_summary')}).get_text())    \n",
    "    \n",
    "    return pd.DataFrame(\n",
    "        {\"categories\": categories,  \n",
    "         \"headers\": headers, \n",
    "         \"contents\": contents})"
   ]
  },
  {
   "cell_type": "code",
   "execution_count": 31,
   "id": "b0a19223",
   "metadata": {},
   "outputs": [
    {
     "name": "stdout",
     "output_type": "stream",
     "text": [
      "scroll_number: 1\n",
      "scroll_number: 2\n",
      "Number of articles: 39\n",
      "(39, 3)\n",
      "\n",
      "scroll_number: 1\n",
      "scroll_number: 2\n",
      "Number of articles: 50\n",
      "(50, 3)\n",
      "\n",
      "scroll_number: 1\n",
      "scroll_number: 2\n",
      "Number of articles: 49\n",
      "(49, 3)\n",
      "\n",
      "scroll_number: 1\n",
      "scroll_number: 2\n",
      "Number of articles: 23\n",
      "(23, 3)\n",
      "\n",
      "scroll_number: 1\n",
      "scroll_number: 2\n",
      "Number of articles: 54\n",
      "(54, 3)\n",
      "\n",
      "scroll_number: 1\n",
      "scroll_number: 2\n",
      "Number of articles: 29\n",
      "(29, 3)\n",
      "\n",
      "scroll_number: 1\n",
      "scroll_number: 2\n",
      "Number of articles: 26\n",
      "(26, 3)\n",
      "\n"
     ]
    }
   ],
   "source": [
    "# \"food\" - doesnt exists\n",
    "categories = [\"technology\",\"politics\", \"sports\", \"science\", \"entertainment\", \"business\", 'weather']\n",
    "for category in categories: \n",
    "    url = f\"https://www.newsbreak.com/channels/{category}\"    \n",
    "    html_data = get_infinity_page_html_data(scroll_number=2)\n",
    "    articles = extract_newsbreak_articles_from_HTML_data(html_data)\n",
    "    df = create_df_from_articles(articles,category)\n",
    "    print(df.shape)\n",
    "    print()\n"
   ]
  },
  {
   "cell_type": "code",
   "execution_count": null,
   "id": "d0015a4b",
   "metadata": {},
   "outputs": [],
   "source": []
  }
 ],
 "metadata": {
  "kernelspec": {
   "display_name": "Python 3 (ipykernel)",
   "language": "python",
   "name": "python3"
  },
  "language_info": {
   "codemirror_mode": {
    "name": "ipython",
    "version": 3
   },
   "file_extension": ".py",
   "mimetype": "text/x-python",
   "name": "python",
   "nbconvert_exporter": "python",
   "pygments_lexer": "ipython3",
   "version": "3.9.7"
  }
 },
 "nbformat": 4,
 "nbformat_minor": 5
}

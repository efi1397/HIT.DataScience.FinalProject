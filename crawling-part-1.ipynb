{
 "cells": [
  {
   "cell_type": "markdown",
   "id": "a336496f",
   "metadata": {},
   "source": [
    "imports \n"
   ]
  },
  {
   "cell_type": "code",
   "execution_count": 1,
   "id": "3ba4beb9",
   "metadata": {},
   "outputs": [],
   "source": [
    "import time\n",
    "import bs4\n",
    "from bs4 import BeautifulSoup  \n",
    "import pandas as pd\n",
    "import scipy as sc\n",
    "import numpy as np\n",
    "import requests"
   ]
  },
  {
   "cell_type": "markdown",
   "id": "e90cac79",
   "metadata": {},
   "source": [
    "function to load a soup object"
   ]
  },
  {
   "cell_type": "code",
   "execution_count": 2,
   "id": "d265a271",
   "metadata": {},
   "outputs": [],
   "source": [
    "def load_soup_object(url):\n",
    "    response = requests.get(url)\n",
    "    #print(response)\n",
    "    soup = BeautifulSoup(response.content, 'html.parser')\n",
    "    \n",
    "    return soup"
   ]
  },
  {
   "cell_type": "markdown",
   "id": "614e155f",
   "metadata": {},
   "source": [
    "function to create a data frame"
   ]
  },
  {
   "cell_type": "code",
   "execution_count": 24,
   "id": "7412a911",
   "metadata": {},
   "outputs": [
    {
     "name": "stdout",
     "output_type": "stream",
     "text": [
      "10\n",
      "Crack the KTU Computer Science S8\n",
      "0\n"
     ]
    },
    {
     "ename": "IndexError",
     "evalue": "list index out of range",
     "output_type": "error",
     "traceback": [
      "\u001b[0;31m---------------------------------------------------------------------------\u001b[0m",
      "\u001b[0;31mIndexError\u001b[0m                                Traceback (most recent call last)",
      "\u001b[0;32m/var/folders/jx/3s4539md4g580v0gvb7vtr9m0000gn/T/ipykernel_38990/835250581.py\u001b[0m in \u001b[0;36m<module>\u001b[0;34m\u001b[0m\n\u001b[1;32m     38\u001b[0m \u001b[0;32mfor\u001b[0m \u001b[0mcategory\u001b[0m \u001b[0;32min\u001b[0m \u001b[0mcategories\u001b[0m\u001b[0;34m:\u001b[0m\u001b[0;34m\u001b[0m\u001b[0;34m\u001b[0m\u001b[0m\n\u001b[1;32m     39\u001b[0m     \u001b[0murl\u001b[0m \u001b[0;34m=\u001b[0m \u001b[0;34mf\"https://medium.com/tag/{category}/latest\"\u001b[0m\u001b[0;34m\u001b[0m\u001b[0;34m\u001b[0m\u001b[0m\n\u001b[0;32m---> 40\u001b[0;31m     \u001b[0mscrape_news_by_category\u001b[0m\u001b[0;34m(\u001b[0m\u001b[0murl\u001b[0m\u001b[0;34m,\u001b[0m\u001b[0mcategory\u001b[0m\u001b[0;34m)\u001b[0m\u001b[0;34m\u001b[0m\u001b[0;34m\u001b[0m\u001b[0m\n\u001b[0m\u001b[1;32m     41\u001b[0m     \u001b[0;31m#time.sleep(2)\u001b[0m\u001b[0;34m\u001b[0m\u001b[0;34m\u001b[0m\u001b[0m\n",
      "\u001b[0;32m/var/folders/jx/3s4539md4g580v0gvb7vtr9m0000gn/T/ipykernel_38990/835250581.py\u001b[0m in \u001b[0;36mscrape_news_by_category\u001b[0;34m(url, category)\u001b[0m\n\u001b[1;32m     14\u001b[0m     \u001b[0;31m#---------tests-------------------------------\u001b[0m\u001b[0;34m\u001b[0m\u001b[0;34m\u001b[0m\u001b[0m\n\u001b[1;32m     15\u001b[0m     \u001b[0mprint\u001b[0m\u001b[0;34m(\u001b[0m\u001b[0mlen\u001b[0m\u001b[0;34m(\u001b[0m\u001b[0mnews_list\u001b[0m\u001b[0;34m)\u001b[0m\u001b[0;34m)\u001b[0m\u001b[0;34m\u001b[0m\u001b[0;34m\u001b[0m\u001b[0m\n\u001b[0;32m---> 16\u001b[0;31m     \u001b[0mprint\u001b[0m\u001b[0;34m(\u001b[0m\u001b[0mnews_list\u001b[0m\u001b[0;34m[\u001b[0m\u001b[0;36m1\u001b[0m\u001b[0;34m]\u001b[0m\u001b[0;34m.\u001b[0m\u001b[0mfind\u001b[0m\u001b[0;34m(\u001b[0m\u001b[0;34m\"h2\"\u001b[0m\u001b[0;34m)\u001b[0m\u001b[0;34m.\u001b[0m\u001b[0mget_text\u001b[0m\u001b[0;34m(\u001b[0m\u001b[0;34m)\u001b[0m\u001b[0;34m)\u001b[0m\u001b[0;34m\u001b[0m\u001b[0;34m\u001b[0m\u001b[0m\n\u001b[0m\u001b[1;32m     17\u001b[0m     \u001b[0;31m#print(category)\u001b[0m\u001b[0;34m\u001b[0m\u001b[0;34m\u001b[0m\u001b[0m\n\u001b[1;32m     18\u001b[0m     \u001b[0;31m#print(news_list[0].find(\"p\").get_text())\u001b[0m\u001b[0;34m\u001b[0m\u001b[0;34m\u001b[0m\u001b[0m\n",
      "\u001b[0;31mIndexError\u001b[0m: list index out of range"
     ]
    }
   ],
   "source": [
    "def scrape_news_by_category(url,category):\n",
    "    header = []\n",
    "    link_to_news_page = []\n",
    "    categories = []\n",
    "    subheader = []\n",
    "    \n",
    "    #create a soup object\n",
    "    soup_object = load_soup_object(url)\n",
    "    #print(soup_object)\n",
    "    \n",
    "    #create a list of all news in the page\n",
    "    news_list = soup_object.find_all(\"div\",{\"class\":\"l ep kf\"}) #article\n",
    "    \n",
    "    #---------tests-------------------------------\n",
    "    print(len(news_list))\n",
    "    print(news_list[1].find(\"h2\").get_text())\n",
    "    #print(category)\n",
    "    #print(news_list[0].find(\"p\").get_text())\n",
    "    #print(news_list[0].find(\"a\").get(\"href\")) ????\n",
    "    #--------tests--------------------------------\n",
    "    \n",
    "    #create a list for each series\n",
    "    #for news in news_list:\n",
    "        #categories.append(\"category\")\n",
    "        #header.append(news.find(\"h2\").get_text())\n",
    "        #subheader.append(news.find(\"p\").get_text())    \n",
    "    \n",
    "    \n",
    "    #return pd.DataFrame({\"category\":categories, \"link_to_news_page\":link_to_news_page, \"header\":header\n",
    "    #, \"subheader\":subheader})\n",
    "\n",
    "\n",
    "#here you can add more categories\n",
    "categories = [\"technology\",\"politics\"]    \n",
    "    \n",
    "for category in categories: \n",
    "    url = f\"https://medium.com/tag/{category}/latest\"\n",
    "    scrape_news_by_category(url,category)\n",
    "    #time.sleep(2)"
   ]
  },
  {
   "cell_type": "code",
   "execution_count": null,
   "id": "75e45133",
   "metadata": {},
   "outputs": [],
   "source": []
  },
  {
   "cell_type": "code",
   "execution_count": null,
   "id": "f01da0b3",
   "metadata": {},
   "outputs": [],
   "source": []
  }
 ],
 "metadata": {
  "kernelspec": {
   "display_name": "Python 3 (ipykernel)",
   "language": "python",
   "name": "python3"
  },
  "language_info": {
   "codemirror_mode": {
    "name": "ipython",
    "version": 3
   },
   "file_extension": ".py",
   "mimetype": "text/x-python",
   "name": "python",
   "nbconvert_exporter": "python",
   "pygments_lexer": "ipython3",
   "version": "3.9.7"
  }
 },
 "nbformat": 4,
 "nbformat_minor": 5
}

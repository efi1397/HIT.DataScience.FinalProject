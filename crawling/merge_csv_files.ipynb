{
 "cells": [
  {
   "cell_type": "code",
   "execution_count": 1,
   "id": "cf5c49ed",
   "metadata": {},
   "outputs": [],
   "source": [
    "import pandas as pd\n",
    "\n",
    "#imports for file names list\n",
    "from os import listdir\n",
    "from os.path import isfile, join\n",
    "\n"
   ]
  },
  {
   "cell_type": "code",
   "execution_count": 2,
   "id": "feec1ed7",
   "metadata": {},
   "outputs": [],
   "source": [
    "#create a list of all file names\n",
    "file_names_list = [f for f in listdir('./csv_files/') if isfile(join('./csv_files/', f))]\n"
   ]
  },
  {
   "cell_type": "code",
   "execution_count": 3,
   "id": "0f0f6c50",
   "metadata": {},
   "outputs": [
    {
     "name": "stdout",
     "output_type": "stream",
     "text": [
      "before: (100, 4)\n",
      "after: (21175, 4)\n"
     ]
    }
   ],
   "source": [
    "temp_df = pd.read_csv(f'./csv_files/{file_names_list[0]}')\n",
    "temp_df.columns = ['Unnamed: 0', 'category', 'header', 'content']\n",
    "merged_df = temp_df.copy()\n",
    "print(\"before:\",merged_df.shape)\n",
    "\n",
    "for i in range(1,len(file_names_list)):\n",
    "    temp_df = pd.read_csv(f'./csv_files/{file_names_list[i]}')\n",
    "    #change in each df to the same column names\n",
    "    temp_df.columns = ['Unnamed: 0', 'category', 'header', 'content']\n",
    "    merged_df = merged_df.append(temp_df)\n",
    "    \n",
    "print(\"after:\",merged_df.shape)    "
   ]
  },
  {
   "cell_type": "code",
   "execution_count": 4,
   "id": "42aeeead",
   "metadata": {},
   "outputs": [
    {
     "name": "stdout",
     "output_type": "stream",
     "text": [
      "<class 'pandas.core.frame.DataFrame'>\n",
      "Int64Index: 21175 entries, 0 to 549\n",
      "Data columns (total 4 columns):\n",
      " #   Column      Non-Null Count  Dtype \n",
      "---  ------      --------------  ----- \n",
      " 0   Unnamed: 0  21175 non-null  int64 \n",
      " 1   category    21175 non-null  object\n",
      " 2   header      21175 non-null  object\n",
      " 3   content     17493 non-null  object\n",
      "dtypes: int64(1), object(3)\n",
      "memory usage: 827.1+ KB\n"
     ]
    }
   ],
   "source": [
    "merged_df.to_csv('merged_csv.csv')\n",
    "merged_df.info()"
   ]
  },
  {
   "cell_type": "code",
   "execution_count": null,
   "id": "4a2c8f9e",
   "metadata": {},
   "outputs": [],
   "source": []
  }
 ],
 "metadata": {
  "kernelspec": {
   "display_name": "Python 3 (ipykernel)",
   "language": "python",
   "name": "python3"
  },
  "language_info": {
   "codemirror_mode": {
    "name": "ipython",
    "version": 3
   },
   "file_extension": ".py",
   "mimetype": "text/x-python",
   "name": "python",
   "nbconvert_exporter": "python",
   "pygments_lexer": "ipython3",
   "version": "3.9.7"
  }
 },
 "nbformat": 4,
 "nbformat_minor": 5
}

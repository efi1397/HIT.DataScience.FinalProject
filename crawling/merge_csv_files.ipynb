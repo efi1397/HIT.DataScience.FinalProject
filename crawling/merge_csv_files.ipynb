{
 "cells": [
  {
   "cell_type": "code",
   "execution_count": 39,
   "id": "43ddf7a4",
   "metadata": {},
   "outputs": [],
   "source": [
    "import pandas as pd\n",
    "\n",
    "#imports for file names list\n",
    "from os import listdir\n",
    "from os.path import isfile, join\n",
    "\n"
   ]
  },
  {
   "cell_type": "code",
   "execution_count": 34,
   "id": "04c6ccfc",
   "metadata": {},
   "outputs": [],
   "source": [
    "#create a list of all file names\n",
    "file_names_list = [f for f in listdir('./csv_files/') if isfile(join('./csv_files/', f))]\n",
    "\n"
   ]
  },
  {
   "cell_type": "code",
   "execution_count": 40,
   "id": "426638ed",
   "metadata": {},
   "outputs": [
    {
     "name": "stdout",
     "output_type": "stream",
     "text": [
      "before: (130, 4)\n",
      "after: (6168, 4)\n"
     ]
    }
   ],
   "source": [
    "temp_df = pd.read_csv(f'./csv_files/{file_names_list[0]}')\n",
    "merged_df = create_df.copy()\n",
    "print(\"before:\",merged_df.shape)\n",
    "\n",
    "for i in range(len(file_names_list)):\n",
    "    temp_df = pd.read_csv(f'./csv_files/{file_names_list[i]}')\n",
    "    #change in each df to the same column names\n",
    "    temp_df.columns = ['Unnamed: 0', 'category', 'header', 'content']\n",
    "    merged_df = merged_df.append(temp_df)\n",
    "    \n",
    "print(\"after:\",merged_df.shape)    "
   ]
  },
  {
   "cell_type": "code",
   "execution_count": 41,
   "id": "b5108db8",
   "metadata": {},
   "outputs": [
    {
     "name": "stdout",
     "output_type": "stream",
     "text": [
      "<class 'pandas.core.frame.DataFrame'>\n",
      "Int64Index: 6168 entries, 0 to 549\n",
      "Data columns (total 4 columns):\n",
      " #   Column      Non-Null Count  Dtype \n",
      "---  ------      --------------  ----- \n",
      " 0   Unnamed: 0  6168 non-null   int64 \n",
      " 1   category    6168 non-null   object\n",
      " 2   header      6168 non-null   object\n",
      " 3   content     5687 non-null   object\n",
      "dtypes: int64(1), object(3)\n",
      "memory usage: 240.9+ KB\n"
     ]
    }
   ],
   "source": [
    "merged_df.to_csv('merged_csv.csv')\n",
    "merged_df.info()"
   ]
  },
  {
   "cell_type": "code",
   "execution_count": null,
   "id": "24fe568a",
   "metadata": {},
   "outputs": [],
   "source": []
  }
 ],
 "metadata": {
  "kernelspec": {
   "display_name": "Python 3 (ipykernel)",
   "language": "python",
   "name": "python3"
  },
  "language_info": {
   "codemirror_mode": {
    "name": "ipython",
    "version": 3
   },
   "file_extension": ".py",
   "mimetype": "text/x-python",
   "name": "python",
   "nbconvert_exporter": "python",
   "pygments_lexer": "ipython3",
   "version": "3.9.7"
  }
 },
 "nbformat": 4,
 "nbformat_minor": 5
}

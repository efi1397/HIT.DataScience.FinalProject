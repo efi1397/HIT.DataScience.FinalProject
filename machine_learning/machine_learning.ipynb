{
 "cells": [
  {
   "cell_type": "markdown",
   "id": "be36039b",
   "metadata": {},
   "source": [
    "# Machine Learning"
   ]
  },
  {
   "cell_type": "code",
   "execution_count": 5,
   "id": "20365832",
   "metadata": {},
   "outputs": [],
   "source": [
    "import pandas as pd\n",
    "import pandas as pd\n",
    "import numpy as np\n",
    "\n",
    "from sklearn.feature_extraction.text import CountVectorizer\n",
    "from sklearn.model_selection import train_test_split\n",
    "\n",
    "from sklearn import preprocessing\n",
    "from sklearn import metrics\n",
    "\n",
    "\n",
    "from sklearn.datasets import fetch_20newsgroups\n",
    "\n",
    "from sklearn.naive_bayes import MultinomialNB\n",
    "from sklearn.pipeline import Pipeline\n",
    "\n",
    "from sklearn.metrics import plot_confusion_matrix"
   ]
  },
  {
   "cell_type": "code",
   "execution_count": 6,
   "id": "08495259",
   "metadata": {},
   "outputs": [
    {
     "data": {
      "text/html": [
       "<div>\n",
       "<style scoped>\n",
       "    .dataframe tbody tr th:only-of-type {\n",
       "        vertical-align: middle;\n",
       "    }\n",
       "\n",
       "    .dataframe tbody tr th {\n",
       "        vertical-align: top;\n",
       "    }\n",
       "\n",
       "    .dataframe thead th {\n",
       "        text-align: right;\n",
       "    }\n",
       "</style>\n",
       "<table border=\"1\" class=\"dataframe\">\n",
       "  <thead>\n",
       "    <tr style=\"text-align: right;\">\n",
       "      <th></th>\n",
       "      <th>category</th>\n",
       "      <th>merged_text</th>\n",
       "    </tr>\n",
       "  </thead>\n",
       "  <tbody>\n",
       "    <tr>\n",
       "      <th>0</th>\n",
       "      <td>politics</td>\n",
       "      <td>['mary', 'trump', 'slam', 'susan', 'sarandon',...</td>\n",
       "    </tr>\n",
       "    <tr>\n",
       "      <th>1</th>\n",
       "      <td>politics</td>\n",
       "      <td>['moment', 'two', 'ukrainian', 'fighter', 'jet...</td>\n",
       "    </tr>\n",
       "    <tr>\n",
       "      <th>2</th>\n",
       "      <td>politics</td>\n",
       "      <td>['mark', 'esper', 'whats', 'stake', 'donald', ...</td>\n",
       "    </tr>\n",
       "    <tr>\n",
       "      <th>3</th>\n",
       "      <td>politics</td>\n",
       "      <td>['hunter', 'biden', 'enlists', 'hollywood', 'm...</td>\n",
       "    </tr>\n",
       "    <tr>\n",
       "      <th>4</th>\n",
       "      <td>politics</td>\n",
       "      <td>['president', 'trump', 'response', 'mark', 'es...</td>\n",
       "    </tr>\n",
       "    <tr>\n",
       "      <th>...</th>\n",
       "      <td>...</td>\n",
       "      <td>...</td>\n",
       "    </tr>\n",
       "    <tr>\n",
       "      <th>9016</th>\n",
       "      <td>food</td>\n",
       "      <td>['classic', 'tater', 'tot', 'casserole', 'gree...</td>\n",
       "    </tr>\n",
       "    <tr>\n",
       "      <th>9017</th>\n",
       "      <td>food</td>\n",
       "      <td>['stew', 'south', 'india', 'know', 'different'...</td>\n",
       "    </tr>\n",
       "    <tr>\n",
       "      <th>9018</th>\n",
       "      <td>food</td>\n",
       "      <td>['biscuit', 'self', 'rise', 'flour', 'biscuit'...</td>\n",
       "    </tr>\n",
       "    <tr>\n",
       "      <th>9019</th>\n",
       "      <td>food</td>\n",
       "      <td>['streusel', 'top', 'banana', 'bread', 'exampl...</td>\n",
       "    </tr>\n",
       "    <tr>\n",
       "      <th>9020</th>\n",
       "      <td>food</td>\n",
       "      <td>['fresh', 'summer', 'drink', 'refresh', 'look'...</td>\n",
       "    </tr>\n",
       "  </tbody>\n",
       "</table>\n",
       "<p>9021 rows × 2 columns</p>\n",
       "</div>"
      ],
      "text/plain": [
       "      category                                        merged_text\n",
       "0     politics  ['mary', 'trump', 'slam', 'susan', 'sarandon',...\n",
       "1     politics  ['moment', 'two', 'ukrainian', 'fighter', 'jet...\n",
       "2     politics  ['mark', 'esper', 'whats', 'stake', 'donald', ...\n",
       "3     politics  ['hunter', 'biden', 'enlists', 'hollywood', 'm...\n",
       "4     politics  ['president', 'trump', 'response', 'mark', 'es...\n",
       "...        ...                                                ...\n",
       "9016      food  ['classic', 'tater', 'tot', 'casserole', 'gree...\n",
       "9017      food  ['stew', 'south', 'india', 'know', 'different'...\n",
       "9018      food  ['biscuit', 'self', 'rise', 'flour', 'biscuit'...\n",
       "9019      food  ['streusel', 'top', 'banana', 'bread', 'exampl...\n",
       "9020      food  ['fresh', 'summer', 'drink', 'refresh', 'look'...\n",
       "\n",
       "[9021 rows x 2 columns]"
      ]
     },
     "execution_count": 6,
     "metadata": {},
     "output_type": "execute_result"
    }
   ],
   "source": [
    "df = pd.read_csv(\"../EDA/ml_csv.csv\")\n",
    "df.drop(columns=\"Unnamed: 0\", axis=1, inplace=True)\n",
    "df"
   ]
  },
  {
   "cell_type": "code",
   "execution_count": 7,
   "id": "63730e8f",
   "metadata": {},
   "outputs": [
    {
     "data": {
      "text/html": [
       "<div>\n",
       "<style scoped>\n",
       "    .dataframe tbody tr th:only-of-type {\n",
       "        vertical-align: middle;\n",
       "    }\n",
       "\n",
       "    .dataframe tbody tr th {\n",
       "        vertical-align: top;\n",
       "    }\n",
       "\n",
       "    .dataframe thead th {\n",
       "        text-align: right;\n",
       "    }\n",
       "</style>\n",
       "<table border=\"1\" class=\"dataframe\">\n",
       "  <thead>\n",
       "    <tr style=\"text-align: right;\">\n",
       "      <th></th>\n",
       "      <th>category</th>\n",
       "      <th>merged_text</th>\n",
       "      <th>category_id</th>\n",
       "    </tr>\n",
       "  </thead>\n",
       "  <tbody>\n",
       "    <tr>\n",
       "      <th>0</th>\n",
       "      <td>politics</td>\n",
       "      <td>['mary', 'trump', 'slam', 'susan', 'sarandon',...</td>\n",
       "      <td>0</td>\n",
       "    </tr>\n",
       "    <tr>\n",
       "      <th>1</th>\n",
       "      <td>politics</td>\n",
       "      <td>['moment', 'two', 'ukrainian', 'fighter', 'jet...</td>\n",
       "      <td>0</td>\n",
       "    </tr>\n",
       "    <tr>\n",
       "      <th>2</th>\n",
       "      <td>politics</td>\n",
       "      <td>['mark', 'esper', 'whats', 'stake', 'donald', ...</td>\n",
       "      <td>0</td>\n",
       "    </tr>\n",
       "    <tr>\n",
       "      <th>3</th>\n",
       "      <td>politics</td>\n",
       "      <td>['hunter', 'biden', 'enlists', 'hollywood', 'm...</td>\n",
       "      <td>0</td>\n",
       "    </tr>\n",
       "    <tr>\n",
       "      <th>4</th>\n",
       "      <td>politics</td>\n",
       "      <td>['president', 'trump', 'response', 'mark', 'es...</td>\n",
       "      <td>0</td>\n",
       "    </tr>\n",
       "    <tr>\n",
       "      <th>...</th>\n",
       "      <td>...</td>\n",
       "      <td>...</td>\n",
       "      <td>...</td>\n",
       "    </tr>\n",
       "    <tr>\n",
       "      <th>9016</th>\n",
       "      <td>food</td>\n",
       "      <td>['classic', 'tater', 'tot', 'casserole', 'gree...</td>\n",
       "      <td>4</td>\n",
       "    </tr>\n",
       "    <tr>\n",
       "      <th>9017</th>\n",
       "      <td>food</td>\n",
       "      <td>['stew', 'south', 'india', 'know', 'different'...</td>\n",
       "      <td>4</td>\n",
       "    </tr>\n",
       "    <tr>\n",
       "      <th>9018</th>\n",
       "      <td>food</td>\n",
       "      <td>['biscuit', 'self', 'rise', 'flour', 'biscuit'...</td>\n",
       "      <td>4</td>\n",
       "    </tr>\n",
       "    <tr>\n",
       "      <th>9019</th>\n",
       "      <td>food</td>\n",
       "      <td>['streusel', 'top', 'banana', 'bread', 'exampl...</td>\n",
       "      <td>4</td>\n",
       "    </tr>\n",
       "    <tr>\n",
       "      <th>9020</th>\n",
       "      <td>food</td>\n",
       "      <td>['fresh', 'summer', 'drink', 'refresh', 'look'...</td>\n",
       "      <td>4</td>\n",
       "    </tr>\n",
       "  </tbody>\n",
       "</table>\n",
       "<p>9021 rows × 3 columns</p>\n",
       "</div>"
      ],
      "text/plain": [
       "      category                                        merged_text  category_id\n",
       "0     politics  ['mary', 'trump', 'slam', 'susan', 'sarandon',...            0\n",
       "1     politics  ['moment', 'two', 'ukrainian', 'fighter', 'jet...            0\n",
       "2     politics  ['mark', 'esper', 'whats', 'stake', 'donald', ...            0\n",
       "3     politics  ['hunter', 'biden', 'enlists', 'hollywood', 'm...            0\n",
       "4     politics  ['president', 'trump', 'response', 'mark', 'es...            0\n",
       "...        ...                                                ...          ...\n",
       "9016      food  ['classic', 'tater', 'tot', 'casserole', 'gree...            4\n",
       "9017      food  ['stew', 'south', 'india', 'know', 'different'...            4\n",
       "9018      food  ['biscuit', 'self', 'rise', 'flour', 'biscuit'...            4\n",
       "9019      food  ['streusel', 'top', 'banana', 'bread', 'exampl...            4\n",
       "9020      food  ['fresh', 'summer', 'drink', 'refresh', 'look'...            4\n",
       "\n",
       "[9021 rows x 3 columns]"
      ]
     },
     "execution_count": 7,
     "metadata": {},
     "output_type": "execute_result"
    }
   ],
   "source": [
    "df[\"category\"].value_counts()\n",
    "category_list = df[\"category\"].unique()\n",
    "\n",
    "df['category_id'] = df['category'].factorize()[0]\n",
    "\n",
    "df"
   ]
  },
  {
   "cell_type": "markdown",
   "id": "271a0d7f",
   "metadata": {},
   "source": [
    "### Pipeline\n",
    "In order to make this flow easier to work with:  \n",
    "\n",
    "`scikit-learn` package provides a `Pipeline` class that behaves like a compound classifier:"
   ]
  },
  {
   "cell_type": "code",
   "execution_count": 10,
   "id": "af11b4db",
   "metadata": {
    "scrolled": true
   },
   "outputs": [
    {
     "name": "stdout",
     "output_type": "stream",
     "text": [
      "[\n",
      "<class 'str'>\n",
      "<class 'str'>\n",
      "category                                              technology\n",
      "merged_text    ['review', 'motorola', 'moto', 'g', 'pure', 'w...\n",
      "category_id                                                    1\n",
      "Name: 200, dtype: object\n"
     ]
    },
    {
     "data": {
      "image/png": "[encoded data removed]",
      "text/plain": [
       "<Figure size 432x288 with 2 Axes>"
      ]
     },
     "metadata": {
      "needs_background": "light"
     },
     "output_type": "display_data"
    }
   ],
   "source": [
    "x = df[\"merged_text\"]\n",
    "y = df[\"category_id\"]\n",
    "\n",
    "print(df[\"merged_text\"].iloc[0][0])\n",
    "print(type(df[\"merged_text\"].iloc[0][0]))\n",
    "print(type(df[\"merged_text\"].iloc[0]))\n",
    "\n",
    "print(df[df[\"category_id\"] == 1].iloc[0])\n",
    "x_train, x_test, y_train, y_test = train_test_split(x, y, test_size=0.3, random_state=42)\n",
    "text_clf = Pipeline([('vect', CountVectorizer()), ('clf', MultinomialNB())])\n",
    "    \n",
    "model = text_clf.fit(x_train, y_train)\n",
    "y_pred = model.predict(x_test)\n",
    "dis = plot_confusion_matrix(model, x_test, y_test, cmap=\"Blues\", values_format=\".3g\")\n"
   ]
  },
  {
   "cell_type": "code",
   "execution_count": 5,
   "id": "d078b2db",
   "metadata": {},
   "outputs": [
    {
     "name": "stdout",
     "output_type": "stream",
     "text": [
      "accuaracy score: 0.8234207609900258\n",
      "precision_score: 0.8234207609900258\n",
      "recall_score: 0.8225560051008923\n",
      "f1_score: 0.824594601354629\n"
     ]
    }
   ],
   "source": [
    "from sklearn.metrics import accuracy_score, f1_score, precision_score, recall_score\n",
    "\n",
    "print(f\"accuaracy score: {accuracy_score(y_test,y_pred)}\")\n",
    "print(f\"precision_score: {precision_score(y_test,y_pred, average='micro')}\")# TP / TP + FP\n",
    "print(f\"recall_score: {recall_score(y_test,y_pred, average='macro')}\")# TP / TP + FN\n",
    "print(f\"f1_score: {f1_score(y_test,y_pred, average='weighted')}\")# 2*P*R/(P+R)\n"
   ]
  },
  {
   "cell_type": "code",
   "execution_count": null,
   "id": "7648c6a6",
   "metadata": {},
   "outputs": [],
   "source": []
  }
 ],
 "metadata": {
  "kernelspec": {
   "display_name": "Python 3 (ipykernel)",
   "language": "python",
   "name": "python3"
  },
  "language_info": {
   "codemirror_mode": {
    "name": "ipython",
    "version": 3
   },
   "file_extension": ".py",
   "mimetype": "text/x-python",
   "name": "python",
   "nbconvert_exporter": "python",
   "pygments_lexer": "ipython3",
   "version": "3.9.7"
  }
 },
 "nbformat": 4,
 "nbformat_minor": 5
}
